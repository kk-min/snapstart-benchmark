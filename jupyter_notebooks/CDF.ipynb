{
 "cells": [
  {
   "cell_type": "code",
   "execution_count": 1,
   "metadata": {},
   "outputs": [],
   "source": [
    "import pandas as pd\n",
    "import seaborn as sb\n",
    "import matplotlib.pyplot as plt"
   ]
  },
  {
   "cell_type": "code",
   "execution_count": 2,
   "metadata": {},
   "outputs": [],
   "source": [
    "ss_enabled_data_path = '../latency_samples/2023-06-30T073412Z/snapstart_enabled.csv'\n",
    "ss_disabled_data_path = '../latency_samples/2023-06-30T073412Z/snapstart_disabled.csv'"
   ]
  },
  {
   "cell_type": "code",
   "execution_count": 3,
   "metadata": {},
   "outputs": [],
   "source": [
    "ss_enabled_df = pd.read_csv(ss_enabled_data_path, names=['snapstart_enabled'])\n",
    "ss_disabled_df = pd.read_csv(ss_disabled_data_path, names=['snapstart_disabled'])"
   ]
  },
  {
   "cell_type": "code",
   "execution_count": 4,
   "metadata": {},
   "outputs": [
    {
     "name": "stdout",
     "output_type": "stream",
     "text": [
      "SnapStart Disabled stats:\n",
      "\n",
      "Median:  921.0\n",
      "\n",
      "Percentile:\n",
      "\n",
      "      snapstart_disabled\n",
      "0.50              921.00\n",
      "0.95             1076.35\n",
      "\n",
      "SnapStart Enabled stats:\n",
      "\n",
      "Median:  836.5\n",
      "\n",
      "Percentile:\n",
      "\n",
      "      snapstart_enabled\n",
      "0.50             836.50\n",
      "0.95            1054.25\n",
      "\n"
     ]
    }
   ],
   "source": [
    "p_enabled = ss_enabled_df.quantile([0.5, 0.95], numeric_only=True)\n",
    "p_disabled = ss_disabled_df.quantile([0.5, 0.95], numeric_only=True)\n",
    "median_enabled = ss_enabled_df.median().to_string(index = False, header=False)\n",
    "median_disabled = ss_disabled_df.median().to_string(index = False, header=False)\n",
    "\n",
    "print(\"SnapStart Disabled stats:\\n\")\n",
    "print(f\"Median: {median_disabled}\\n\")\n",
    "print(\"Percentile:\\n\")\n",
    "print(f\"{p_disabled}\\n\")\n",
    "\n",
    "print(\"SnapStart Enabled stats:\\n\")\n",
    "print(f\"Median: {median_enabled}\\n\")\n",
    "print(\"Percentile:\\n\")\n",
    "print(f\"{p_enabled}\\n\")"
   ]
  },
  {
   "cell_type": "code",
   "execution_count": 5,
   "metadata": {},
   "outputs": [],
   "source": [
    "plot_df = pd.concat([ss_enabled_df, ss_disabled_df])"
   ]
  },
  {
   "cell_type": "code",
   "execution_count": 6,
   "metadata": {},
   "outputs": [
    {
     "data": {
      "text/plain": [
       "<AxesSubplot:ylabel='Proportion'>"
      ]
     },
     "execution_count": 6,
     "metadata": {},
     "output_type": "execute_result"
    },
    {
     "data": {
      "image/png": "[encoded data removed]",
      "text/plain": [
       "<Figure size 1080x576 with 1 Axes>"
      ]
     },
     "metadata": {
      "needs_background": "light"
     },
     "output_type": "display_data"
    }
   ],
   "source": [
    "plt.figure(figsize=(15,8))\n",
    "sb.ecdfplot(data=plot_df, stat=\"proportion\")"
   ]
  }
 ],
 "metadata": {
  "kernelspec": {
   "display_name": "Python 3",
   "language": "python",
   "name": "python3"
  },
  "language_info": {
   "codemirror_mode": {
    "name": "ipython",
    "version": 3
   },
   "file_extension": ".py",
   "mimetype": "text/x-python",
   "name": "python",
   "nbconvert_exporter": "python",
   "pygments_lexer": "ipython3",
   "version": "3.8.5"
  }
 },
 "nbformat": 4,
 "nbformat_minor": 4
}
